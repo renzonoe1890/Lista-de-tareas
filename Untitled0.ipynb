{
  "nbformat": 4,
  "nbformat_minor": 0,
  "metadata": {
    "colab": {
      "provenance": [],
      "authorship_tag": "ABX9TyMvAgLkklgpLVwWcMXm2olG",
      "include_colab_link": true
    },
    "kernelspec": {
      "name": "python3",
      "display_name": "Python 3"
    },
    "language_info": {
      "name": "python"
    }
  },
  "cells": [
    {
      "cell_type": "markdown",
      "metadata": {
        "id": "view-in-github",
        "colab_type": "text"
      },
      "source": [
        "<a href=\"https://colab.research.google.com/github/renzonoe1890/Lista-de-tareas/blob/main/Untitled0.ipynb\" target=\"_parent\"><img src=\"https://colab.research.google.com/assets/colab-badge.svg\" alt=\"Open In Colab\"/></a>"
      ]
    },
    {
      "cell_type": "code",
      "execution_count": 39,
      "metadata": {
        "colab": {
          "base_uri": "https://localhost:8080/"
        },
        "id": "phfEoY-WaBne",
        "outputId": "293827eb-cd18-4f26-af23-2f13c072ab7f"
      },
      "outputs": [
        {
          "output_type": "stream",
          "name": "stdout",
          "text": [
            "Overwriting models.py\n"
          ]
        }
      ],
      "source": [
        "%%writefile models.py\n",
        "from sqlalchemy import Column, Integer, String, Date, ForeignKey, Text, Enum, DateTime\n",
        "from sqlalchemy.orm import relationship, declarative_base\n",
        "import enum\n",
        "import datetime\n",
        "\n",
        "Base = declarative_base()\n",
        "\n",
        "# --- Enums ---\n",
        "class TipoPlanta(enum.Enum):\n",
        "    FEMINIZADA = \"Feminizada\"\n",
        "    AUTOMATICA = \"Automática\"\n",
        "    OTRA = \"Otra\"\n",
        "\n",
        "class EtapasCultivo(enum.Enum):\n",
        "    CRECIMIENTO = \"Crecimiento\"\n",
        "    PREFLORA = \"Pre-flora\"\n",
        "    FLORACION = \"Floración\"\n",
        "    POR_COSECHAR = \"Por cosechar\"\n",
        "    SECADO = \"Secado\"\n",
        "    CURANDO = \"Curando\"\n",
        "\n",
        "class TecnicaCultivo(enum.Enum):\n",
        "    HIDROPONIA = \"Hidroponía\"\n",
        "    TIERRA_VIVA = \"Tierra Viva\"\n",
        "    MACETA = \"Maceta\"\n",
        "\n",
        "class RolUsuario(enum.Enum):\n",
        "    ADMIN = \"Admin\"\n",
        "    CULTIVADOR = \"Cultivador\"\n",
        "\n",
        "# --- Tablas principales ---\n",
        "\n",
        "class Invernadero(Base):\n",
        "    __tablename__ = \"invernaderos\"\n",
        "    id = Column(Integer, primary_key=True)\n",
        "    nombre = Column(String, nullable=False)\n",
        "\n",
        "    zonas = relationship(\"Zona\", back_populates=\"invernadero\")\n",
        "\n",
        "class Zona(Base):\n",
        "    __tablename__ = \"zonas\"\n",
        "    id = Column(Integer, primary_key=True)\n",
        "    nombre = Column(String, nullable=False)\n",
        "    fecha_inicio = Column(Date)\n",
        "    tecnica = Column(Enum(TecnicaCultivo))\n",
        "    luz = Column(Text)\n",
        "\n",
        "    invernadero_id = Column(Integer, ForeignKey(\"invernaderos.id\"))\n",
        "    invernadero = relationship(\"Invernadero\", back_populates=\"zonas\")\n",
        "\n",
        "    mypots = relationship(\"Mypot\", back_populates=\"zona\")\n",
        "    macetas = relationship(\"Maceta\", back_populates=\"zona\")\n",
        "\n",
        "class Mypot(Base):\n",
        "    __tablename__ = \"mypots\"\n",
        "    id = Column(Integer, primary_key=True)\n",
        "    nombre = Column(String, nullable=False)\n",
        "    capacidad = Column(Integer, default=8)  # 8 plantas por mypot\n",
        "\n",
        "    zona_id = Column(Integer, ForeignKey(\"zonas.id\"))\n",
        "    zona = relationship(\"Zona\", back_populates=\"mypots\")\n",
        "\n",
        "    plantas = relationship(\"Planta\", back_populates=\"mypot\")\n",
        "\n",
        "class Maceta(Base):\n",
        "    __tablename__ = \"macetas\"\n",
        "    id = Column(Integer, primary_key=True)\n",
        "    nombre = Column(String, nullable=False)\n",
        "    capacidad = Column(Integer, default=4)  # 4 plantas por maceta\n",
        "\n",
        "    zona_id = Column(Integer, ForeignKey(\"zonas.id\"))\n",
        "    zona = relationship(\"Zona\", back_populates=\"macetas\")\n",
        "\n",
        "    plantas = relationship(\"Planta\", back_populates=\"maceta\")\n",
        "\n",
        "class Planta(Base):\n",
        "    __tablename__ = \"plantas\"\n",
        "    id = Column(Integer, primary_key=True)\n",
        "    nombre_cepa = Column(String, nullable=False)\n",
        "    tipo = Column(Enum(TipoPlanta))\n",
        "    fecha_ingreso = Column(Date, default=datetime.date.today)\n",
        "    foto = Column(String)  # ruta o URL\n",
        "    etapa = Column(Enum(EtapasCultivo), default=EtapasCultivo.CRECIMIENTO)\n",
        "    dias_en_etapa = Column(Integer, default=0)\n",
        "    info_adicional = Column(Text)\n",
        "\n",
        "    mypot_id = Column(Integer, ForeignKey(\"mypots.id\"), nullable=True)\n",
        "    maceta_id = Column(Integer, ForeignKey(\"macetas.id\"), nullable=True)\n",
        "\n",
        "    mypot = relationship(\"Mypot\", back_populates=\"plantas\")\n",
        "    maceta = relationship(\"Maceta\", back_populates=\"plantas\")\n",
        "\n",
        "    notas = relationship(\"NotaDiaria\", back_populates=\"planta\")\n",
        "\n",
        "class NotaDiaria(Base):\n",
        "    __tablename__ = \"notas_diarias\"\n",
        "    id = Column(Integer, primary_key=True)\n",
        "    texto = Column(Text, nullable=False)\n",
        "    fecha = Column(DateTime, default=datetime.datetime.utcnow)\n",
        "    foto = Column(String)\n",
        "\n",
        "    planta_id = Column(Integer, ForeignKey(\"plantas.id\"), nullable=True)\n",
        "    zona_id = Column(Integer, ForeignKey(\"zonas.id\"), nullable=True)\n",
        "\n",
        "    planta = relationship(\"Planta\", back_populates=\"notas\")\n",
        "\n",
        "class Usuario(Base):\n",
        "    __tablename__ = \"usuarios\"\n",
        "    id = Column(Integer, primary_key=True)\n",
        "    nombre = Column(String, nullable=False)\n",
        "    email = Column(String, unique=True, nullable=False)\n",
        "    password = Column(String, nullable=False)\n",
        "    rol = Column(Enum(RolUsuario), default=RolUsuario.CULTIVADOR)\n"
      ]
    },
    {
      "cell_type": "code",
      "source": [
        "%%writefile init_db.py\n",
        "from sqlalchemy import create_engine\n",
        "from sqlalchemy.orm import sessionmaker\n",
        "# from models import Base  # Importa los modelos que definimos antes\n",
        "\n",
        "# Crear motor de base de datos SQLite\n",
        "DATABASE_URL = \"sqlite:///gtl.db\"\n",
        "engine = create_engine(DATABASE_URL, echo=True)  # echo=True muestra las consultas SQL\n",
        "\n",
        "# Crear todas las tablas definidas en models.py\n",
        "Base.metadata.create_all(engine)\n",
        "\n",
        "# Crear sesión para interactuar con la base de datos\n",
        "SessionLocal = sessionmaker(bind=engine)\n",
        "\n",
        "def get_db():\n",
        "    db = SessionLocal()\n",
        "    try:\n",
        "        yield db\n",
        "    finally:\n",
        "        db.close()\n",
        "\n",
        "if __name__ == \"__main__\":\n",
        "    print(\"Creando la base de datos GTL...\")\n",
        "    Base.metadata.create_all(engine)\n",
        "    print(\"Base de datos inicializada correctamente ✅\")"
      ],
      "metadata": {
        "colab": {
          "base_uri": "https://localhost:8080/"
        },
        "id": "MvTLgiw5aQTA",
        "outputId": "5b3b42cb-41ed-416b-e44e-a42ac51b59bb"
      },
      "execution_count": 40,
      "outputs": [
        {
          "output_type": "stream",
          "name": "stdout",
          "text": [
            "Overwriting init_db.py\n"
          ]
        }
      ]
    },
    {
      "cell_type": "code",
      "source": [
        "%%writefile seed_data.py\n",
        "\n",
        "from sqlalchemy import create_engine\n",
        "from sqlalchemy.orm import sessionmaker\n",
        "# from models import Base, Invernadero, Zona, Mypot, Maceta, Planta, Usuario, TipoPlanta, EtapasCultivo, TecnicaCultivo, RolUsuario\n",
        "import datetime\n",
        "\n",
        "# Configuración de base de datos\n",
        "DATABASE_URL = \"sqlite:///gtl.db\"\n",
        "engine = create_engine(DATABASE_URL, echo=True)\n",
        "SessionLocal = sessionmaker(bind=engine)\n",
        "session = SessionLocal()\n",
        "\n",
        "def seed_data():\n",
        "    # --- Crear invernadero principal ---\n",
        "    # Check if invernadero exists\n",
        "    invernadero = session.query(Invernadero).filter_by(nombre=\"Invernadero Principal\").first()\n",
        "    if not invernadero:\n",
        "        invernadero = Invernadero(nombre=\"Invernadero Principal\")\n",
        "        session.add(invernadero)\n",
        "        session.commit() # Commit to get the invernadero ID\n",
        "        session.refresh(invernadero) # Refresh to get the updated object with ID\n",
        "\n",
        "    # --- Crear zonas ---\n",
        "    # Check if zones exist\n",
        "    zona1 = session.query(Zona).filter_by(nombre=\"Huch'uy Wasi\").first()\n",
        "    if not zona1:\n",
        "        zona1 = Zona(\n",
        "            nombre=\"Huch'uy Wasi\",\n",
        "            fecha_inicio=datetime.date(2025, 1, 1),\n",
        "            tecnica=TecnicaCultivo.HIDROPONIA,\n",
        "            luz=\"Luz LED 18h\",\n",
        "            invernadero=invernadero\n",
        "        )\n",
        "        session.add(zona1)\n",
        "\n",
        "    zona2 = session.query(Zona).filter_by(nombre=\"Inti Raymi\").first()\n",
        "    if not zona2:\n",
        "        zona2 = Zona(\n",
        "            nombre=\"Inti Raymi\",\n",
        "            fecha_inicio=datetime.date(2025, 2, 1),\n",
        "            tecnica=TecnicaCultivo.TIERRA_VIVA,\n",
        "            luz=\"Luz solar natural\",\n",
        "            invernadero=invernadero\n",
        "        )\n",
        "        session.add(zona2)\n",
        "\n",
        "    # --- Crear Mypot y Macetas ---\n",
        "    # Check if Mypot and Maceta exist\n",
        "    mypot1 = session.query(Mypot).filter_by(nombre=\"Mypot-1\").first()\n",
        "    if not mypot1:\n",
        "        mypot1 = Mypot(nombre=\"Mypot-1\", zona=zona1)\n",
        "        session.add(mypot1)\n",
        "\n",
        "    maceta1 = session.query(Maceta).filter_by(nombre=\"Maceta-1\").first()\n",
        "    if not maceta1:\n",
        "        maceta1 = Maceta(nombre=\"Maceta-1\", zona=zona2)\n",
        "        session.add(maceta1)\n",
        "\n",
        "\n",
        "    # --- Crear Plantas ---\n",
        "    # Check if plants exist\n",
        "    planta1 = session.query(Planta).filter_by(nombre_cepa=\"Purple Haze\").first()\n",
        "    if not planta1:\n",
        "        planta1 = Planta(\n",
        "            nombre_cepa=\"Purple Haze\",\n",
        "            tipo=TipoPlanta.FEMINIZADA,\n",
        "            fecha_ingreso=datetime.date(2025, 1, 10),\n",
        "            etapa=EtapasCultivo.CRECIMIENTO,\n",
        "            dias_en_etapa=15,\n",
        "            info_adicional=\"Planta robusta con crecimiento rápido\",\n",
        "            mypot=mypot1\n",
        "        )\n",
        "        session.add(planta1)\n",
        "\n",
        "    planta2 = session.query(Planta).filter_by(nombre_cepa=\"White Widow\").first()\n",
        "    if not planta2:\n",
        "        planta2 = Planta(\n",
        "            nombre_cepa=\"White Widow\",\n",
        "            tipo=TipoPlanta.AUTOMATICA,\n",
        "            fecha_ingreso=datetime.date(2025, 2, 5),\n",
        "            etapa=EtapasCultivo.PREFLORA,\n",
        "            dias_en_etapa=7,\n",
        "            info_adicional=\"Genética europea, aroma fuerte\",\n",
        "            maceta=maceta1\n",
        "        )\n",
        "        session.add(planta2)\n",
        "\n",
        "    # --- Crear Usuarios ---\n",
        "    # Check if users exist\n",
        "    admin = session.query(Usuario).filter_by(email=\"admin@gtl.com\").first()\n",
        "    if not admin:\n",
        "        admin = Usuario(\n",
        "            nombre=\"Admin\",\n",
        "            email=\"admin@gtl.com\",\n",
        "            password=\"admin123\",  # ⚠️ En producción se debe encriptar\n",
        "            rol=RolUsuario.ADMIN\n",
        "        )\n",
        "        session.add(admin)\n",
        "\n",
        "    cultivador = session.query(Usuario).filter_by(email=\"juan@gtl.com\").first()\n",
        "    if not cultivador:\n",
        "        cultivador = Usuario(\n",
        "            nombre=\"Cultivador Juan\",\n",
        "            email=\"juan@gtl.com\",\n",
        "            password=\"juan123\",\n",
        "            rol=RolUsuario.CULTIVADOR\n",
        "        )\n",
        "        session.add(cultivador)\n",
        "\n",
        "    # --- Guardar en la base de datos ---\n",
        "    session.commit()\n",
        "\n",
        "    print(\"✅ Datos de ejemplo insertados correctamente\")\n",
        "\n",
        "if __name__ == \"__main__\":\n",
        "    seed_data()"
      ],
      "metadata": {
        "colab": {
          "base_uri": "https://localhost:8080/"
        },
        "id": "hKGCnhUBaQRZ",
        "outputId": "94a4b99b-0f83-4819-d4d0-9994eeb82b22"
      },
      "execution_count": 41,
      "outputs": [
        {
          "output_type": "stream",
          "name": "stdout",
          "text": [
            "Overwriting seed_data.py\n"
          ]
        }
      ]
    },
    {
      "cell_type": "code",
      "source": [
        "!pip install sqlalchemy\n",
        "\n"
      ],
      "metadata": {
        "colab": {
          "base_uri": "https://localhost:8080/"
        },
        "id": "1-XPYsDlcMZO",
        "outputId": "760ac7f7-68e8-45be-a59a-e07f445e8986"
      },
      "execution_count": 42,
      "outputs": [
        {
          "output_type": "stream",
          "name": "stdout",
          "text": [
            "Requirement already satisfied: sqlalchemy in /usr/local/lib/python3.12/dist-packages (2.0.43)\n",
            "Requirement already satisfied: greenlet>=1 in /usr/local/lib/python3.12/dist-packages (from sqlalchemy) (3.2.4)\n",
            "Requirement already satisfied: typing-extensions>=4.6.0 in /usr/local/lib/python3.12/dist-packages (from sqlalchemy) (4.15.0)\n"
          ]
        }
      ]
    },
    {
      "cell_type": "code",
      "source": [
        "!python init_db.py\n"
      ],
      "metadata": {
        "colab": {
          "base_uri": "https://localhost:8080/"
        },
        "id": "qA-HsAXrcMYI",
        "outputId": "01139455-499c-4ad0-bcb6-bccee4a6ffa9"
      },
      "execution_count": 43,
      "outputs": [
        {
          "output_type": "stream",
          "name": "stdout",
          "text": [
            "Traceback (most recent call last):\n",
            "  File \"/content/init_db.py\", line 10, in <module>\n",
            "    Base.metadata.create_all(engine)\n",
            "    ^^^^\n",
            "NameError: name 'Base' is not defined. Did you mean: 'False'?\n"
          ]
        }
      ]
    },
    {
      "cell_type": "code",
      "source": [
        "!python seed_data.py\n"
      ],
      "metadata": {
        "colab": {
          "base_uri": "https://localhost:8080/"
        },
        "id": "W3jSsMW-ci4u",
        "outputId": "06564884-11a8-4e7d-e2dc-7ff04846bc81"
      },
      "execution_count": 44,
      "outputs": [
        {
          "output_type": "stream",
          "name": "stdout",
          "text": [
            "Traceback (most recent call last):\n",
            "  File \"/content/seed_data.py\", line 116, in <module>\n",
            "    seed_data()\n",
            "  File \"/content/seed_data.py\", line 16, in seed_data\n",
            "    invernadero = session.query(Invernadero).filter_by(nombre=\"Invernadero Principal\").first()\n",
            "                                ^^^^^^^^^^^\n",
            "NameError: name 'Invernadero' is not defined. Did you mean: 'invernadero'?\n"
          ]
        }
      ]
    },
    {
      "cell_type": "code",
      "source": [
        "from sqlalchemy import create_engine\n",
        "from sqlalchemy.orm import sessionmaker\n",
        "from models import Planta\n",
        "\n",
        "# Conexión\n",
        "DATABASE_URL = \"sqlite:///gtl.db\"\n",
        "engine = create_engine(DATABASE_URL)\n",
        "SessionLocal = sessionmaker(bind=engine)\n",
        "session = SessionLocal()\n",
        "\n",
        "# Listar todas las plantas\n",
        "plantas = session.query(Planta).all()\n",
        "for p in plantas:\n",
        "    print(f\"🌱 {p.nombre_cepa} - Etapa: {p.etapa.value} - Días: {p.dias_en_etapa}\")\n"
      ],
      "metadata": {
        "colab": {
          "base_uri": "https://localhost:8080/"
        },
        "id": "orrqNy43cmzC",
        "outputId": "7727fd7a-8a5a-47e6-99a0-16d15abb6ef0"
      },
      "execution_count": 45,
      "outputs": [
        {
          "output_type": "stream",
          "name": "stdout",
          "text": [
            "🌱 Purple Haze - Etapa: Crecimiento - Días: 15\n",
            "🌱 White Widow - Etapa: Pre-flora - Días: 7\n"
          ]
        }
      ]
    },
    {
      "cell_type": "code",
      "source": [
        "!pip install streamlit\n"
      ],
      "metadata": {
        "colab": {
          "base_uri": "https://localhost:8080/"
        },
        "id": "victlOFwc0pH",
        "outputId": "960064fc-5d33-4992-83d8-35864c4ad17c"
      },
      "execution_count": 46,
      "outputs": [
        {
          "output_type": "stream",
          "name": "stdout",
          "text": [
            "Requirement already satisfied: streamlit in /usr/local/lib/python3.12/dist-packages (1.49.1)\n",
            "Requirement already satisfied: altair!=5.4.0,!=5.4.1,<6,>=4.0 in /usr/local/lib/python3.12/dist-packages (from streamlit) (5.5.0)\n",
            "Requirement already satisfied: blinker<2,>=1.5.0 in /usr/local/lib/python3.12/dist-packages (from streamlit) (1.9.0)\n",
            "Requirement already satisfied: cachetools<7,>=4.0 in /usr/local/lib/python3.12/dist-packages (from streamlit) (5.5.2)\n",
            "Requirement already satisfied: click<9,>=7.0 in /usr/local/lib/python3.12/dist-packages (from streamlit) (8.2.1)\n",
            "Requirement already satisfied: numpy<3,>=1.23 in /usr/local/lib/python3.12/dist-packages (from streamlit) (2.0.2)\n",
            "Requirement already satisfied: packaging<26,>=20 in /usr/local/lib/python3.12/dist-packages (from streamlit) (25.0)\n",
            "Requirement already satisfied: pandas<3,>=1.4.0 in /usr/local/lib/python3.12/dist-packages (from streamlit) (2.2.2)\n",
            "Requirement already satisfied: pillow<12,>=7.1.0 in /usr/local/lib/python3.12/dist-packages (from streamlit) (11.3.0)\n",
            "Requirement already satisfied: protobuf<7,>=3.20 in /usr/local/lib/python3.12/dist-packages (from streamlit) (5.29.5)\n",
            "Requirement already satisfied: pyarrow>=7.0 in /usr/local/lib/python3.12/dist-packages (from streamlit) (18.1.0)\n",
            "Requirement already satisfied: requests<3,>=2.27 in /usr/local/lib/python3.12/dist-packages (from streamlit) (2.32.4)\n",
            "Requirement already satisfied: tenacity<10,>=8.1.0 in /usr/local/lib/python3.12/dist-packages (from streamlit) (8.5.0)\n",
            "Requirement already satisfied: toml<2,>=0.10.1 in /usr/local/lib/python3.12/dist-packages (from streamlit) (0.10.2)\n",
            "Requirement already satisfied: typing-extensions<5,>=4.4.0 in /usr/local/lib/python3.12/dist-packages (from streamlit) (4.15.0)\n",
            "Requirement already satisfied: watchdog<7,>=2.1.5 in /usr/local/lib/python3.12/dist-packages (from streamlit) (6.0.0)\n",
            "Requirement already satisfied: gitpython!=3.1.19,<4,>=3.0.7 in /usr/local/lib/python3.12/dist-packages (from streamlit) (3.1.45)\n",
            "Requirement already satisfied: pydeck<1,>=0.8.0b4 in /usr/local/lib/python3.12/dist-packages (from streamlit) (0.9.1)\n",
            "Requirement already satisfied: tornado!=6.5.0,<7,>=6.0.3 in /usr/local/lib/python3.12/dist-packages (from streamlit) (6.4.2)\n",
            "Requirement already satisfied: jinja2 in /usr/local/lib/python3.12/dist-packages (from altair!=5.4.0,!=5.4.1,<6,>=4.0->streamlit) (3.1.6)\n",
            "Requirement already satisfied: jsonschema>=3.0 in /usr/local/lib/python3.12/dist-packages (from altair!=5.4.0,!=5.4.1,<6,>=4.0->streamlit) (4.25.1)\n",
            "Requirement already satisfied: narwhals>=1.14.2 in /usr/local/lib/python3.12/dist-packages (from altair!=5.4.0,!=5.4.1,<6,>=4.0->streamlit) (2.3.0)\n",
            "Requirement already satisfied: gitdb<5,>=4.0.1 in /usr/local/lib/python3.12/dist-packages (from gitpython!=3.1.19,<4,>=3.0.7->streamlit) (4.0.12)\n",
            "Requirement already satisfied: python-dateutil>=2.8.2 in /usr/local/lib/python3.12/dist-packages (from pandas<3,>=1.4.0->streamlit) (2.9.0.post0)\n",
            "Requirement already satisfied: pytz>=2020.1 in /usr/local/lib/python3.12/dist-packages (from pandas<3,>=1.4.0->streamlit) (2025.2)\n",
            "Requirement already satisfied: tzdata>=2022.7 in /usr/local/lib/python3.12/dist-packages (from pandas<3,>=1.4.0->streamlit) (2025.2)\n",
            "Requirement already satisfied: charset_normalizer<4,>=2 in /usr/local/lib/python3.12/dist-packages (from requests<3,>=2.27->streamlit) (3.4.3)\n",
            "Requirement already satisfied: idna<4,>=2.5 in /usr/local/lib/python3.12/dist-packages (from requests<3,>=2.27->streamlit) (3.10)\n",
            "Requirement already satisfied: urllib3<3,>=1.21.1 in /usr/local/lib/python3.12/dist-packages (from requests<3,>=2.27->streamlit) (2.5.0)\n",
            "Requirement already satisfied: certifi>=2017.4.17 in /usr/local/lib/python3.12/dist-packages (from requests<3,>=2.27->streamlit) (2025.8.3)\n",
            "Requirement already satisfied: smmap<6,>=3.0.1 in /usr/local/lib/python3.12/dist-packages (from gitdb<5,>=4.0.1->gitpython!=3.1.19,<4,>=3.0.7->streamlit) (5.0.2)\n",
            "Requirement already satisfied: MarkupSafe>=2.0 in /usr/local/lib/python3.12/dist-packages (from jinja2->altair!=5.4.0,!=5.4.1,<6,>=4.0->streamlit) (3.0.2)\n",
            "Requirement already satisfied: attrs>=22.2.0 in /usr/local/lib/python3.12/dist-packages (from jsonschema>=3.0->altair!=5.4.0,!=5.4.1,<6,>=4.0->streamlit) (25.3.0)\n",
            "Requirement already satisfied: jsonschema-specifications>=2023.03.6 in /usr/local/lib/python3.12/dist-packages (from jsonschema>=3.0->altair!=5.4.0,!=5.4.1,<6,>=4.0->streamlit) (2025.4.1)\n",
            "Requirement already satisfied: referencing>=0.28.4 in /usr/local/lib/python3.12/dist-packages (from jsonschema>=3.0->altair!=5.4.0,!=5.4.1,<6,>=4.0->streamlit) (0.36.2)\n",
            "Requirement already satisfied: rpds-py>=0.7.1 in /usr/local/lib/python3.12/dist-packages (from jsonschema>=3.0->altair!=5.4.0,!=5.4.1,<6,>=4.0->streamlit) (0.27.1)\n",
            "Requirement already satisfied: six>=1.5 in /usr/local/lib/python3.12/dist-packages (from python-dateutil>=2.8.2->pandas<3,>=1.4.0->streamlit) (1.17.0)\n"
          ]
        }
      ]
    },
    {
      "cell_type": "code",
      "source": [
        "%%writefile app.py\n",
        "import streamlit as st\n",
        "from sqlalchemy import create_engine\n",
        "from sqlalchemy.orm import sessionmaker\n",
        "from models import Planta\n",
        "\n",
        "# Conectar a la base de datos\n",
        "DATABASE_URL = \"sqlite:///gtl.db\"\n",
        "engine = create_engine(DATABASE_URL)\n",
        "SessionLocal = sessionmaker(bind=engine)\n",
        "session = SessionLocal()\n",
        "\n",
        "st.title(\"🌱 GTL - Grow Track Loops\")\n",
        "st.subheader(\"Gestión de Plantas Exóticas\")\n",
        "\n",
        "# Mostrar todas las plantas\n",
        "plantas = session.query(Planta).all()\n",
        "for p in plantas:\n",
        "    st.write(f\"**{p.nombre_cepa}** | Etapa: {p.etapa.value} | Días en etapa: {p.dias_en_etapa}\")\n"
      ],
      "metadata": {
        "colab": {
          "base_uri": "https://localhost:8080/"
        },
        "id": "IKGLaPGWc6HN",
        "outputId": "f2388898-7ef5-486d-8d99-e42205e00138"
      },
      "execution_count": 47,
      "outputs": [
        {
          "output_type": "stream",
          "name": "stdout",
          "text": [
            "Overwriting app.py\n"
          ]
        }
      ]
    },
    {
      "cell_type": "code",
      "source": [
        "# app.py (ejemplo mínimo)\n",
        "import streamlit as st\n",
        "\n",
        "PASSWORD = \"mi_secreto_123\"\n",
        "\n",
        "if \"authed\" not in st.session_state:\n",
        "    st.session_state.authed = False\n",
        "\n",
        "if not st.session_state.authed:\n",
        "    pwd = st.text_input(\"Enter password\", type=\"password\")\n",
        "    if st.button(\"Login\"):\n",
        "        if pwd == PASSWORD:\n",
        "            st.session_state.authed = True\n",
        "            st.experimental_rerun()\n",
        "        else:\n",
        "            st.error(\"Password incorrect\")\n",
        "else:\n",
        "    st.title(\"🌱 GTL - Grow Track Loops\")\n",
        "    # resto de tu app aquí\n",
        "\n"
      ],
      "metadata": {
        "colab": {
          "base_uri": "https://localhost:8080/"
        },
        "id": "KmBNtA2uea8w",
        "outputId": "a2e797cb-ba62-47b8-df8b-164154275af0"
      },
      "execution_count": 48,
      "outputs": [
        {
          "output_type": "stream",
          "name": "stderr",
          "text": [
            "2025-09-14 18:41:39.098 Thread 'MainThread': missing ScriptRunContext! This warning can be ignored when running in bare mode.\n",
            "2025-09-14 18:41:39.102 Thread 'MainThread': missing ScriptRunContext! This warning can be ignored when running in bare mode.\n",
            "2025-09-14 18:41:39.103 Thread 'MainThread': missing ScriptRunContext! This warning can be ignored when running in bare mode.\n",
            "2025-09-14 18:41:39.104 Thread 'MainThread': missing ScriptRunContext! This warning can be ignored when running in bare mode.\n",
            "2025-09-14 18:41:39.105 Thread 'MainThread': missing ScriptRunContext! This warning can be ignored when running in bare mode.\n",
            "2025-09-14 18:41:39.105 Thread 'MainThread': missing ScriptRunContext! This warning can be ignored when running in bare mode.\n",
            "2025-09-14 18:41:39.106 Thread 'MainThread': missing ScriptRunContext! This warning can be ignored when running in bare mode.\n",
            "2025-09-14 18:41:39.107 Thread 'MainThread': missing ScriptRunContext! This warning can be ignored when running in bare mode.\n",
            "2025-09-14 18:41:39.112 Thread 'MainThread': missing ScriptRunContext! This warning can be ignored when running in bare mode.\n",
            "2025-09-14 18:41:39.113 Thread 'MainThread': missing ScriptRunContext! This warning can be ignored when running in bare mode.\n",
            "2025-09-14 18:41:39.114 Thread 'MainThread': missing ScriptRunContext! This warning can be ignored when running in bare mode.\n",
            "2025-09-14 18:41:39.117 Thread 'MainThread': missing ScriptRunContext! This warning can be ignored when running in bare mode.\n",
            "2025-09-14 18:41:39.120 Thread 'MainThread': missing ScriptRunContext! This warning can be ignored when running in bare mode.\n",
            "2025-09-14 18:41:39.131 Thread 'MainThread': missing ScriptRunContext! This warning can be ignored when running in bare mode.\n",
            "2025-09-14 18:41:39.133 Thread 'MainThread': missing ScriptRunContext! This warning can be ignored when running in bare mode.\n"
          ]
        }
      ]
    },
    {
      "cell_type": "code",
      "source": [
        "!streamlit run app.py --server.enableCORS false --server.enableXsrfProtection false --server.port 8501\n"
      ],
      "metadata": {
        "colab": {
          "base_uri": "https://localhost:8080/"
        },
        "id": "a5eu_MrLiTFe",
        "outputId": "f4c278b2-d171-459f-e79b-bc08d2d1a16c"
      },
      "execution_count": null,
      "outputs": [
        {
          "output_type": "stream",
          "name": "stdout",
          "text": [
            "\n",
            "Collecting usage statistics. To deactivate, set browser.gatherUsageStats to false.\n",
            "\u001b[0m\n",
            "\u001b[0m\n",
            "\u001b[34m\u001b[1m  You can now view your Streamlit app in your browser.\u001b[0m\n",
            "\u001b[0m\n",
            "\u001b[34m  Local URL: \u001b[0m\u001b[1mhttp://localhost:8501\u001b[0m\n",
            "\u001b[34m  Network URL: \u001b[0m\u001b[1mhttp://172.28.0.12:8501\u001b[0m\n",
            "\u001b[34m  External URL: \u001b[0m\u001b[1mhttp://34.74.240.82:8501\u001b[0m\n",
            "\u001b[0m\n"
          ]
        }
      ]
    }
  ]
}